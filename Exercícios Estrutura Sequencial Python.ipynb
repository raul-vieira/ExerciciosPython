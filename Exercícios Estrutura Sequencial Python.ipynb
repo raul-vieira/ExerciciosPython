{
 "cells": [
  {
   "cell_type": "code",
   "execution_count": 1,
   "id": "18a92612",
   "metadata": {},
   "outputs": [
    {
     "name": "stdout",
     "output_type": "stream",
     "text": [
      "Hello World!\n"
     ]
    }
   ],
   "source": [
    "print('Hello World!')"
   ]
  },
  {
   "cell_type": "code",
   "execution_count": 2,
   "id": "07921096",
   "metadata": {},
   "outputs": [
    {
     "name": "stdout",
     "output_type": "stream",
     "text": [
      "Informe um número: 9\n",
      "O número informado foi: 9\n"
     ]
    }
   ],
   "source": [
    "a = int(input('Informe um número: '))\n",
    "print('O número informado foi:', a)"
   ]
  },
  {
   "cell_type": "code",
   "execution_count": 3,
   "id": "4ca7029e",
   "metadata": {},
   "outputs": [
    {
     "name": "stdout",
     "output_type": "stream",
     "text": [
      "Digite o primeiro número: 12\n",
      "Digite o segundo número: 5\n",
      "O resultado da soma deles é:  17\n"
     ]
    }
   ],
   "source": [
    "a = int(input('Digite o primeiro número: '))\n",
    "b = int(input('Digite o segundo número: '))\n",
    "print('O resultado da soma deles é: ', a+b)"
   ]
  },
  {
   "cell_type": "code",
   "execution_count": 4,
   "id": "06d89aa4",
   "metadata": {},
   "outputs": [
    {
     "name": "stdout",
     "output_type": "stream",
     "text": [
      "Nota 1: 8\n",
      "Nota 2: 7\n",
      "Nota 3: 5\n",
      "Nota 4: 10\n",
      "A média final é:  7.5\n"
     ]
    }
   ],
   "source": [
    "a = int(input(\"Nota 1: \"))\n",
    "b = int(input(\"Nota 2: \"))\n",
    "c = int(input(\"Nota 3: \"))\n",
    "d = int(input(\"Nota 4: \"))\n",
    "f = int(a + b + c + d)\n",
    "print('A média final é: ', float(f/4))"
   ]
  },
  {
   "cell_type": "code",
   "execution_count": 5,
   "id": "608b2d76",
   "metadata": {},
   "outputs": [
    {
     "name": "stdout",
     "output_type": "stream",
     "text": [
      "Conversor de metros (m) para centímetros (cm)\n",
      "Informe a medida em metros (m): 20\n",
      "2000.0 cm\n"
     ]
    }
   ],
   "source": [
    "print('Conversor de metros (m) para centímetros (cm)')\n",
    "a = float(input('Informe a medida em metros (m): '))\n",
    "print(float(a*100), 'cm')"
   ]
  },
  {
   "cell_type": "code",
   "execution_count": 6,
   "id": "47301302",
   "metadata": {},
   "outputs": [
    {
     "name": "stdout",
     "output_type": "stream",
     "text": [
      "Calculadora de Área Circular\n",
      "Informe o raio do círculo em metros: 4\n",
      "A área do círculo é 39.4384 m²\n"
     ]
    }
   ],
   "source": [
    "print('Calculadora de Área Circular')\n",
    "a = float(input('Informe o raio do círculo em metros: '))\n",
    "print('A área do círculo é', a*3.14**2, \"m²\")"
   ]
  },
  {
   "cell_type": "code",
   "execution_count": 7,
   "id": "122b303d",
   "metadata": {},
   "outputs": [
    {
     "name": "stdout",
     "output_type": "stream",
     "text": [
      "Calculadora do dobro da área de um quadrado\n",
      "Lado 1: 2\n",
      "Lado 2: 2\n",
      "Resultado: 8.0\n"
     ]
    }
   ],
   "source": [
    "print('Calculadora do dobro da área de um quadrado')\n",
    "a = float(input('Lado 1: '))\n",
    "b = float(input('Lado 2: '))\n",
    "print('Resultado:', float(a*b*2))"
   ]
  },
  {
   "cell_type": "code",
   "execution_count": 8,
   "id": "7237d88c",
   "metadata": {},
   "outputs": [
    {
     "name": "stdout",
     "output_type": "stream",
     "text": [
      "Quanto você ganha por hora trabalhada? 40\n",
      "Quantas horas você trabalhou esse mês? 160\n",
      "Seu salário este mês foi 6400.0 reais\n"
     ]
    }
   ],
   "source": [
    "a = float(input('Quanto você ganha por hora trabalhada? '))\n",
    "b = float(input('Quantas horas você trabalhou esse mês? '))\n",
    "salario = float(a*b)\n",
    "print('Seu salário este mês foi' , salario, 'reais')"
   ]
  },
  {
   "cell_type": "code",
   "execution_count": 9,
   "id": "bceedc0d",
   "metadata": {},
   "outputs": [
    {
     "name": "stdout",
     "output_type": "stream",
     "text": [
      "Temperatura em Fahrenheit: 100\n",
      "37.77777777777778 Cº\n"
     ]
    }
   ],
   "source": [
    "a = float(input('Temperatura em Fahrenheit: '))\n",
    "b = float(5 * ((a-32) / 9))\n",
    "print(b, 'Cº')"
   ]
  },
  {
   "cell_type": "code",
   "execution_count": 10,
   "id": "2756d948",
   "metadata": {},
   "outputs": [
    {
     "name": "stdout",
     "output_type": "stream",
     "text": [
      "Temperatura em Celsius: 32\n",
      "89.6 Fº\n"
     ]
    }
   ],
   "source": [
    "a = float(input('Temperatura em Celsius: '))\n",
    "b = float((a*1.8 + 32))\n",
    "print(b, 'Fº')                                      #multiplicar a temperatura em graus Celsius por 1,8 e somar 32."
   ]
  },
  {
   "cell_type": "code",
   "execution_count": 11,
   "id": "2eed3c3d",
   "metadata": {},
   "outputs": [
    {
     "name": "stdout",
     "output_type": "stream",
     "text": [
      "Primeiro nº inteiro: 5\n",
      "Segundo nº inteiro: 6\n",
      "Nº real: 9.4\n",
      "30.0 24.4 830.5840000000001\n"
     ]
    }
   ],
   "source": [
    "a = int(input('Primeiro nº inteiro: '))\n",
    "b = int(input('Segundo nº inteiro: '))\n",
    "c = float(input('Nº real: '))\n",
    "print(a*2*b/2 , 3*a+c, c**3)"
   ]
  },
  {
   "cell_type": "code",
   "execution_count": 12,
   "id": "79527e4a",
   "metadata": {},
   "outputs": [
    {
     "name": "stdout",
     "output_type": "stream",
     "text": [
      "Calculadora de Peso Ideal\n",
      "Informe a sua altura em m: 1.64\n",
      "61.227999999999994 kg\n"
     ]
    }
   ],
   "source": [
    "print('Calculadora de Peso Ideal')\n",
    "altura = float(input('Informe a sua altura em m: '))\n",
    "print((72.7*altura) - 58, 'kg')"
   ]
  },
  {
   "cell_type": "code",
   "execution_count": 13,
   "id": "24c46aec",
   "metadata": {},
   "outputs": [
    {
     "name": "stdout",
     "output_type": "stream",
     "text": [
      "1 - Homem ; 2 - Mulher: 1\n",
      "Informe sua altura em metros: 1.64\n",
      "O seu peso ideal é: 61.227999999999994 kg\n"
     ]
    }
   ],
   "source": [
    "sexo = int(input('1 - Homem ; 2 - Mulher: '))\n",
    "h = float(input('Informe sua altura em metros: '))\n",
    "if sexo == 1:\n",
    "    print(\"O seu peso ideal é:\", (72.7*h) - 58, 'kg')\n",
    "else:\n",
    "    print(\"O seu peso ideal é:\", (62.1*h) - 44.7, 'kg')"
   ]
  },
  {
   "cell_type": "code",
   "execution_count": 14,
   "id": "826a80e6",
   "metadata": {},
   "outputs": [
    {
     "name": "stdout",
     "output_type": "stream",
     "text": [
      "Peso de peixes trazido (kg): 60\n",
      "Excedente: 10.0 kg\n",
      "Multa por excesso: 40.0 reais\n"
     ]
    }
   ],
   "source": [
    "peso = float(input('Peso de peixes trazido (kg): '))\n",
    "if peso > 50:\n",
    "    print('Excedente:', peso-50, 'kg')\n",
    "    print('Multa por excesso:', 4*(peso-50), 'reais')\n",
    "else:\n",
    "    print('Não haverá cobrança por excesso.')"
   ]
  },
  {
   "cell_type": "code",
   "execution_count": 15,
   "id": "f8b17bb7",
   "metadata": {},
   "outputs": [
    {
     "name": "stdout",
     "output_type": "stream",
     "text": [
      "Quanto você ganha por hora trabalhada? 50\n",
      "Quantas horas você trabalhou esse mês? 120\n",
      "+ Salário Bruto: 6000.0 reais\n",
      "- IR (11%): 660.0 reais\n",
      "- INSS (8%): 480.0 reais\n",
      "- Sindicato (5%): 300.0 reais\n",
      "= Salário Líquido: 4560.0 reais\n"
     ]
    }
   ],
   "source": [
    "a = float(input('Quanto você ganha por hora trabalhada? '))\n",
    "b = float(input('Quantas horas você trabalhou esse mês? '))\n",
    "salario = float(a*b)\n",
    "impostorenda = float(0.11*salario)\n",
    "inss = float(0.08*salario)\n",
    "sindicato = float(0.05*salario)\n",
    "salarioliq = float(salario - impostorenda - inss - sindicato)\n",
    "print('+ Salário Bruto:', salario, 'reais')\n",
    "print('- IR (11%):', impostorenda, 'reais')\n",
    "print('- INSS (8%):', inss, 'reais')\n",
    "print('- Sindicato (5%):', sindicato, 'reais')\n",
    "print('= Salário Líquido:', salarioliq, 'reais')"
   ]
  },
  {
   "cell_type": "code",
   "execution_count": 16,
   "id": "c641be6d",
   "metadata": {},
   "outputs": [
    {
     "name": "stdout",
     "output_type": "stream",
     "text": [
      "Qual a área em m² a ser pintada? 160\n",
      "Quantidade de tinta necessária: 53.333333333333336 L\n",
      "Quantidade de latas necessária: 3\n",
      "Valor total da compra: 240.0 reais\n"
     ]
    }
   ],
   "source": [
    "import math\n",
    "a = float(input('Qual a área em m² a ser pintada? '))\n",
    "quantinta = float(a/3)\n",
    "latas = float(quantinta/18)\n",
    "latas = math.ceil(latas)\n",
    "valor = float(latas*80)\n",
    "print('Quantidade de tinta necessária:', quantinta, 'L')\n",
    "print('Quantidade de latas necessária:', latas)\n",
    "print('Valor total da compra:', valor, 'reais')"
   ]
  },
  {
   "cell_type": "code",
   "execution_count": 17,
   "id": "d5f35baf",
   "metadata": {},
   "outputs": [
    {
     "name": "stdout",
     "output_type": "stream",
     "text": [
      "Qual a área em m² a ser pintada? 160\n",
      "Quantidade de tinta necessária: 29.333333333333332 L\n",
      "Quantidade de latas necessária: 2\n",
      "Valor total da compra (somente latas): 160.0 reais\n",
      "Quantidade de galões necessários: 9 galões\n",
      "Valor total da compra (somente galões): 225.0 reais\n"
     ]
    }
   ],
   "source": [
    "import math\n",
    "a = float(input('Qual a área em m² a ser pintada? '))\n",
    "quantinta = float(1.1*a/6)\n",
    "latas = float(quantinta/18)\n",
    "latas = math.ceil(latas)\n",
    "galao = float(quantinta/3.6)\n",
    "galao = math.ceil(galao)\n",
    "valor = float(latas*80)\n",
    "valor2 = float(galao*25)\n",
    "print('Quantidade de tinta necessária:', quantinta, 'L')\n",
    "print('Quantidade de latas necessária:', latas)\n",
    "print('Valor total da compra (somente latas):', valor, 'reais')\n",
    "print('Quantidade de galões necessários:', galao, 'galões')\n",
    "print('Valor total da compra (somente galões):', valor2, 'reais')\n"
   ]
  },
  {
   "cell_type": "code",
   "execution_count": 18,
   "id": "dc79ab74",
   "metadata": {},
   "outputs": [
    {
     "name": "stdout",
     "output_type": "stream",
     "text": [
      "Qual o tamanho do arquivo para download em mb? 1000\n",
      "Qual a velocidade da conexão de internet para download em mbps? 60\n",
      "Tempo estimado para donwload: 1000.0000000000001 minutos\n"
     ]
    }
   ],
   "source": [
    "a = float(input('Qual o tamanho do arquivo para download em mb? '))\n",
    "b = float(input('Qual a velocidade da conexão de internet para download em mbps? '))\n",
    "print('Tempo estimado para donwload:', (a/b)*60, 'minutos')"
   ]
  }
 ],
 "metadata": {
  "kernelspec": {
   "display_name": "Python 3 (ipykernel)",
   "language": "python",
   "name": "python3"
  },
  "language_info": {
   "codemirror_mode": {
    "name": "ipython",
    "version": 3
   },
   "file_extension": ".py",
   "mimetype": "text/x-python",
   "name": "python",
   "nbconvert_exporter": "python",
   "pygments_lexer": "ipython3",
   "version": "3.7.1"
  }
 },
 "nbformat": 4,
 "nbformat_minor": 5
}
