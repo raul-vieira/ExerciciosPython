{
 "cells": [
  {
   "cell_type": "code",
   "execution_count": 9,
   "id": "2e4ae185",
   "metadata": {},
   "outputs": [
    {
     "name": "stdout",
     "output_type": "stream",
     "text": [
      "Digite o conteúdo: String 1\n",
      "Digite o conteúdo: String 2\n",
      "O conteúdo da primeira string é: String 1; O tamanho é: 8\n",
      "O conteúdo da segunda string é: String 2; O tamanho é: 8\n",
      "As strings possuem o mesmo comprimento\n",
      "As strings não possuem o mesmo conteúdo\n"
     ]
    }
   ],
   "source": [
    "# Ex.1\n",
    "# Tamanho de strings. Faça um programa que leia 2 strings e informe o conteúdo delas seguido do seu comprimento. \n",
    "# Informe também se as duas strings possuem o mesmo comprimento e são iguais ou diferentes no conteúdo.\n",
    "\n",
    "a = str(input(\"Digite o conteúdo: \"))\n",
    "b = str(input(\"Digite o conteúdo: \"))\n",
    "print(\"O conteúdo da primeira string é: \" + a + \"; O tamanho é: \" + str(len(a)))\n",
    "print(\"O conteúdo da segunda string é: \" + b + \"; O tamanho é: \" + str(len(b)))\n",
    "\n",
    "if len(a)==len(b):\n",
    "    print(\"As strings possuem o mesmo comprimento\")\n",
    "else:\n",
    "    print(\"As strings não possuem o mesmo comprimento\")\n",
    "\n",
    "if a==b:\n",
    "    print(\"As strings possuem o mesmo conteúdo\")\n",
    "else:\n",
    "    print(\"As strings não possuem o mesmo conteúdo\")"
   ]
  },
  {
   "cell_type": "code",
   "execution_count": 42,
   "id": "3fe0036b",
   "metadata": {},
   "outputs": [
    {
     "name": "stdout",
     "output_type": "stream",
     "text": [
      "Digite o seu nome: raul\n",
      "LUAR\n"
     ]
    }
   ],
   "source": [
    "# Ex.2\n",
    "# Nome ao contrário em maiúsculas. Faça um programa que permita ao usuário digitar o seu nome \n",
    "# e em seguida mostre o nome do usuário de trás para frente utilizando somente letras maiúsculas. \n",
    "# Dica: lembre−se que ao informar o nome o usuário pode digitar letras maiúsculas ou minúsculas.\n",
    "\n",
    "a = input(\"Digite o seu nome: \")\n",
    "print(a.upper() [::-1])"
   ]
  },
  {
   "cell_type": "code",
   "execution_count": 43,
   "id": "de365629",
   "metadata": {},
   "outputs": [
    {
     "name": "stdout",
     "output_type": "stream",
     "text": [
      "Digite o seu nome: raul\n",
      "R\n",
      "A\n",
      "U\n",
      "L\n"
     ]
    }
   ],
   "source": [
    "# Ex.3\n",
    "# Nome na vertical. Faça um programa que solicite o nome do usuário e imprima-o na vertical.\n",
    "\n",
    "a = input(\"Digite o seu nome: \").upper()\n",
    "list(a)\n",
    "for letter in a:\n",
    "    print(letter)"
   ]
  }
 ],
 "metadata": {
  "kernelspec": {
   "display_name": "Python 3 (ipykernel)",
   "language": "python",
   "name": "python3"
  },
  "language_info": {
   "codemirror_mode": {
    "name": "ipython",
    "version": 3
   },
   "file_extension": ".py",
   "mimetype": "text/x-python",
   "name": "python",
   "nbconvert_exporter": "python",
   "pygments_lexer": "ipython3",
   "version": "3.9.12"
  }
 },
 "nbformat": 4,
 "nbformat_minor": 5
}
